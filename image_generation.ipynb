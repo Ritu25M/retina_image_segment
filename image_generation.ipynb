{
  "nbformat": 4,
  "nbformat_minor": 0,
  "metadata": {
    "colab": {
      "name": "patch_extraction_tf_512x512.ipynb",
      "provenance": [],
      "collapsed_sections": []
    },
    "kernelspec": {
      "name": "python3",
      "display_name": "Python 3"
    },
    "accelerator": "GPU"
  },
  "cells": [
    {
      "cell_type": "code",
      "metadata": {
        "id": "in_v7EpV2Slm",
        "colab_type": "code",
        "colab": {}
      },
      "source": [
        "\n",
        "!add-apt-repository -y ppa:alessandro-strada/ppa 2>&1 > /dev/null\n",
        "!apt-get update -qq 2>&1 > /dev/null\n",
        "!apt-get -y install -qq google-drive-ocamlfuse fuse\n",
        "from google.colab import auth\n",
        "auth.authenticate_user()\n",
        "from oauth2client.client import GoogleCredentials\n",
        "creds = GoogleCredentials.get_application_default()\n",
        "import getpass\n",
        "!google-drive-ocamlfuse -headless -id={creds.client_id} -secret={creds.client_secret} < /dev/null 2>&1 | grep URL\n",
        "vcode = getpass.getpass()\n",
        "!echo {vcode} | google-drive-ocamlfuse -headless -id={creds.client_id} -secret={creds.client_secret}"
      ],
      "execution_count": 0,
      "outputs": []
    },
    {
      "cell_type": "code",
      "metadata": {
        "id": "FiYtPxF02qoB",
        "colab_type": "code",
        "outputId": "339c67ac-ae81-4e81-b863-898fc548703c",
        "colab": {
          "base_uri": "https://localhost:8080/",
          "height": 34
        }
      },
      "source": [
        "from google.colab import drive\n",
        "drive.mount('/content/drive')\n"
      ],
      "execution_count": 0,
      "outputs": [
        {
          "output_type": "stream",
          "text": [
            "Drive already mounted at /content/drive; to attempt to forcibly remount, call drive.mount(\"/content/drive\", force_remount=True).\n"
          ],
          "name": "stdout"
        }
      ]
    },
    {
      "cell_type": "code",
      "metadata": {
        "id": "wyaPqwD6xW_A",
        "colab_type": "code",
        "outputId": "02e522c5-cbde-464a-f13f-139d3ffb9fc5",
        "colab": {
          "base_uri": "https://localhost:8080/",
          "height": 476
        }
      },
      "source": [
        "#!/usr/bin/env python3\n",
        "# -*- coding: utf-8 -*-\n",
        "\"\"\"\n",
        "Created on Wed Jan  2 11:32:03 2019\n",
        "\n",
        "@author: hp\n",
        "\"\"\"\n",
        "#!/usr/bin/env python3\n",
        "# -*- coding: utf-8 -*-\n",
        "\"\"\"\n",
        "Created on Tue Dec 18 10:19:35 2018\n",
        "\n",
        "@author: hp\n",
        "\"\"\"\n",
        "import cv2\n",
        "import numpy as np\n",
        "import os\n",
        "import tensorflow as tf\n",
        "\n",
        "from keras import backend as K\n",
        "from keras.models import model_from_json\n",
        "\n",
        "\n",
        "model_file = '/content/drive/My Drive/retina/model5.json'\n",
        "weights_file = '/content/drive/My Drive/retina/model5.h5'\n",
        "with open(model_file, \"r\") as file:\n",
        "      config = file.read()\n",
        "\n",
        "\n",
        "\n",
        "\n",
        "Path1= '/content/drive/My Drive/retina/b. Testing Set'\n",
        "\n",
        "def extract_patch (filename):\n",
        "    ksizes =[1,32,32,1]\n",
        "    strides =[1,2,2,1]\n",
        "    fundus = cv2.imread(Path1+'/'+filename)\n",
        "    fundus = cv2.resize(fundus,(512,512))\n",
        "    fundus = np.resize(fundus,(1,512,512,3))\n",
        "    rates = [1,1,1,1]\n",
        "    patches = tf.image.extract_image_patches(fundus,ksizes, strides,rates,\"SAME\",\n",
        "    name=None)\n",
        "   \n",
        "    \n",
        "    patches =tf.squeeze(patches,0)\n",
        "    patches=tf.reshape(patches,[-1,32,32,3])\n",
        "    sess = tf.Session()\n",
        "    a = sess.run(patches)\n",
        "    sess.close()\n",
        "    return a\n",
        "\n",
        "def gen_image (prediction):\n",
        "    testimage = np.zeros((prediction.shape[0],3),dtype = float)\n",
        "    #testimage[:,0]= (prediction[:,1]>0.49)\n",
        "    #testimage[:,1]= ((prediction[:,1]>0.8)&(prediction[:,1]<=0.95))\n",
        "    testimage[:,2]= (prediction[:,1]>0.90)\n",
        "    a=int(np.sqrt(prediction.shape[0]))\n",
        "    testimage = np.reshape(testimage,(a,a,3))\n",
        "    testimage[:,:,:] =testimage[:,:,:] * 225 \n",
        "    return testimage\n",
        "\n",
        "if __name__ == \"__main__\":\n",
        "    K.set_learning_phase(0)\n",
        "    model = model_from_json(config)\n",
        "    model.load_weights(weights_file)\n",
        "    filesArray = [x for x in os.listdir(Path1) if os.path.isfile(os.path.join(Path1,x))]\n",
        "    count = 0;\n",
        "   # random.shuffle(filesArray)\n",
        "    for filename in filesArray:\n",
        "         filename_no_extension = os.path.splitext(filename)[0]\n",
        "         \n",
        "         patches = extract_patch(filename)\n",
        "         mean = np.mean(patches,axis=(0,1,2,3))\n",
        "         std = np.std(patches,axis=(0,1,2,3))\n",
        "         \n",
        "         patches = (patches-mean)/(std+1e-7)\n",
        "         prediction = model.predict(patches)\n",
        "         \n",
        "         testimage = gen_image(prediction)\n",
        "         '''\n",
        "         cv2.imshow('goo'+ str(filename),testimage)\n",
        "         cv2.waitKey(0)\n",
        "         cv2.destroyAllWindows()\n",
        "         '''\n",
        "         cv2.imwrite('/content/drive/My Drive/retina/'+filename_no_extension+'predicted512x512.png',testimage)\n",
        "         \n",
        "         print(filename)\n",
        "       #  y = model.fit(patches)        \n",
        "         \n",
        "\n",
        "   \n",
        "\n",
        "\n",
        "\n",
        "    "
      ],
      "execution_count": 0,
      "outputs": [
        {
          "output_type": "stream",
          "text": [
            "IDRiD_59.jpg\n",
            "IDRiD_80.jpg\n",
            "IDRiD_81.jpg\n",
            "IDRiD_62.jpg\n",
            "IDRiD_61.jpg\n",
            "IDRiD_68.jpg\n",
            "IDRiD_60.jpg\n",
            "IDRiD_74.jpg\n",
            "IDRiD_73.jpg\n",
            "IDRiD_64.jpg\n",
            "IDRiD_79.jpg\n",
            "IDRiD_66.jpg\n",
            "IDRiD_75.jpg\n",
            "IDRiD_71.jpg\n",
            "IDRiD_57.jpg\n",
            "IDRiD_69.jpg\n",
            "IDRiD_58.jpg\n",
            "IDRiD_63.jpg\n",
            "IDRiD_77.jpg\n",
            "IDRiD_65.jpg\n",
            "IDRiD_55.jpg\n",
            "IDRiD_56.jpg\n",
            "IDRiD_67.jpg\n",
            "IDRiD_76.jpg\n",
            "IDRiD_72.jpg\n",
            "IDRiD_70.jpg\n",
            "IDRiD_78.jpg\n"
          ],
          "name": "stdout"
        }
      ]
    },
    {
      "cell_type": "code",
      "metadata": {
        "id": "iMkPE3tYy2ec",
        "colab_type": "code",
        "outputId": "384ab963-6be4-4639-b59e-9844cec641fa",
        "colab": {
          "base_uri": "https://localhost:8080/",
          "height": 323
        }
      },
      "source": [
        "!ls /content/drive/'My Drive'/retina\n",
        "\n"
      ],
      "execution_count": 0,
      "outputs": [
        {
          "output_type": "stream",
          "text": [
            "'b. Testing Set'\t        IDRiD_70predicted5512.png   model4.h5\n",
            " cam.ipynb\t\t        IDRiD_71predicted5512.png   model4.json\n",
            " IDRiD_55predicted5512.png      IDRiD_72predicted5512.png   model5.h5\n",
            " IDRiD_56predicted5512.png      IDRiD_73predicted5512.png   model5.json\n",
            " IDRiD_57predicted5512.png      IDRiD_74predicted5512.png   model6.h5\n",
            " IDRiD_58predicted5512.png      IDRiD_75predicted5512.png   model6.json\n",
            " IDRiD_59predicted512x512.png   IDRiD_76predicted5512.png   model.h5\n",
            " IDRiD_59predicted5512.png      IDRiD_77predicted5512.png   model.json\n",
            " IDRiD_60predicted5512.png      IDRiD_78predicted5512.png   nn_archi.ipynb\n",
            " IDRiD_61predicted5512.png      IDRiD_79predicted5512.png   nn_archi.py\n",
            " IDRiD_62predicted5512.png      IDRiD_80predicted5512.png   paper3.ipynb\n",
            " IDRiD_63predicted5512.png      IDRiD_81predicted5512.png   preprocess0.ipynb\n",
            " IDRiD_64predicted5512.png      model1.h5\t\t    x512.npy\n",
            " IDRiD_65predicted5512.png      model1.json\t\t    x.npy\n",
            " IDRiD_66predicted5512.png      model2.h5\t\t    y512.npy\n",
            " IDRiD_67predicted5512.png      model2.json\t\t    y.npy\n",
            " IDRiD_68predicted5512.png      model3.h5\n",
            " IDRiD_69predicted5512.png      model3.json\n"
          ],
          "name": "stdout"
        }
      ]
    },
    {
      "cell_type": "code",
      "metadata": {
        "id": "RcOzIdWFy3q_",
        "colab_type": "code",
        "outputId": "f66b0d69-58af-4b0b-cabb-d7d22c111e07",
        "colab": {
          "base_uri": "https://localhost:8080/",
          "height": 102
        }
      },
      "source": [
        "!ls /content/drive/'My Drive'/retina\n"
      ],
      "execution_count": 0,
      "outputs": [
        {
          "output_type": "stream",
          "text": [
            "'b. Testing Set'   model2.json\t model5.h5     model.json\t   x512.npy\n",
            " cam.ipynb\t   model3.h5\t model5.json   nn_archi.ipynb\t   x.npy\n",
            " model1.h5\t   model3.json\t model6.h5     nn_archi.py\t   y512.npy\n",
            " model1.json\t   model4.h5\t model6.json   paper3.ipynb\t   y.npy\n",
            " model2.h5\t   model4.json\t model.h5      preprocess0.ipynb\n"
          ],
          "name": "stdout"
        }
      ]
    },
    {
      "cell_type": "code",
      "metadata": {
        "id": "SlcLybRszp8B",
        "colab_type": "code",
        "outputId": "9a053d35-136d-44cd-fd5d-ad60959bf1e2",
        "colab": {
          "base_uri": "https://localhost:8080/",
          "height": 34
        }
      },
      "source": [
        "!ls /content/drive/'My Drive'/retina/model2.json\n"
      ],
      "execution_count": 0,
      "outputs": [
        {
          "output_type": "stream",
          "text": [
            "'/content/drive/My Drive/retina/model2.json'\n"
          ],
          "name": "stdout"
        }
      ]
    },
    {
      "cell_type": "code",
      "metadata": {
        "id": "Uj_KdCgc2Xya",
        "colab_type": "code",
        "outputId": "20aaeb21-9518-499d-daf1-78e950f9fe7f",
        "colab": {
          "base_uri": "https://localhost:8080/",
          "height": 34
        }
      },
      "source": [
        "!ls /content/drive\n"
      ],
      "execution_count": 0,
      "outputs": [
        {
          "output_type": "stream",
          "text": [
            "'My Drive'\n"
          ],
          "name": "stdout"
        }
      ]
    },
    {
      "cell_type": "code",
      "metadata": {
        "id": "dIWePcaUOF1e",
        "colab_type": "code",
        "colab": {}
      },
      "source": [
        "!ls /content/drive/'My Drive'/"
      ],
      "execution_count": 0,
      "outputs": []
    },
    {
      "cell_type": "code",
      "metadata": {
        "id": "80qXm4JZOMEX",
        "colab_type": "code",
        "colab": {}
      },
      "source": [
        "% reset -f\n"
      ],
      "execution_count": 0,
      "outputs": []
    },
    {
      "cell_type": "code",
      "metadata": {
        "id": "QYSK_LCOkbtL",
        "colab_type": "code",
        "colab": {}
      },
      "source": [
        "!kill -9 -1 "
      ],
      "execution_count": 0,
      "outputs": []
    },
    {
      "cell_type": "code",
      "metadata": {
        "id": "DqD37L7GleOO",
        "colab_type": "code",
        "colab": {}
      },
      "source": [
        ""
      ],
      "execution_count": 0,
      "outputs": []
    }
  ]
}